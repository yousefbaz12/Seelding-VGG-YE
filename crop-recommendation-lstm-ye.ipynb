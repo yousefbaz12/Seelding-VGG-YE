{
 "cells": [
  {
   "cell_type": "code",
   "execution_count": 1,
   "id": "99bde414",
   "metadata": {
    "execution": {
     "iopub.execute_input": "2023-03-27T04:43:12.587230Z",
     "iopub.status.busy": "2023-03-27T04:43:12.586776Z",
     "iopub.status.idle": "2023-03-27T04:43:18.913998Z",
     "shell.execute_reply": "2023-03-27T04:43:18.912988Z"
    },
    "papermill": {
     "duration": 6.336434,
     "end_time": "2023-03-27T04:43:18.916545",
     "exception": false,
     "start_time": "2023-03-27T04:43:12.580111",
     "status": "completed"
    },
    "tags": []
   },
   "outputs": [],
   "source": [
    "import sys \n",
    "import numpy as np # linear algebra\n",
    "from scipy.stats import randint\n",
    "import pandas as pd # data processing, CSV file I/O (e.g. pd.read_csv), data manipulation as in SQL\n",
    "import matplotlib.pyplot as plt # this is used for the plot the graph \n",
    "import seaborn as sns # used for plot interactive graph. \n",
    "from sklearn.model_selection import train_test_split # to split the data into two parts\n",
    "from sklearn.preprocessing import StandardScaler # for normalization\n",
    "from sklearn.preprocessing import MinMaxScaler\n",
    "from sklearn.pipeline import Pipeline # pipeline making\n",
    "from sklearn.model_selection import cross_val_score\n",
    "from sklearn.feature_selection import SelectFromModel\n",
    "from sklearn import metrics # for the check the error and accuracy of the model\n",
    "from sklearn.metrics import mean_squared_error,r2_score\n",
    "from sklearn.preprocessing import LabelEncoder\n",
    "from sklearn.model_selection import train_test_split as tts\n",
    "from keras.layers import Input, Dense, Dropout\n",
    "from sklearn.metrics import confusion_matrix\n",
    "from tensorflow.keras import optimizers\n",
    "from tensorflow.keras.optimizers import Adam\n",
    "\n",
    "\n",
    "\n",
    "import tensorflow as tf\n",
    "import keras\n",
    "from keras.layers import Dense\n",
    "from keras.models import Sequential\n",
    "from keras.callbacks import EarlyStopping\n",
    "from keras.utils import np_utils\n",
    "import itertools\n",
    "from keras.layers import LSTM\n",
    "from keras.layers.convolutional import Conv1D\n",
    "from keras.layers.convolutional import MaxPooling1D\n",
    "from keras.layers import Dropout"
   ]
  },
  {
   "cell_type": "code",
   "execution_count": 2,
   "id": "07adf9ea",
   "metadata": {
    "execution": {
     "iopub.execute_input": "2023-03-27T04:43:18.926455Z",
     "iopub.status.busy": "2023-03-27T04:43:18.925956Z",
     "iopub.status.idle": "2023-03-27T04:43:18.958916Z",
     "shell.execute_reply": "2023-03-27T04:43:18.957949Z"
    },
    "papermill": {
     "duration": 0.040304,
     "end_time": "2023-03-27T04:43:18.961225",
     "exception": false,
     "start_time": "2023-03-27T04:43:18.920921",
     "status": "completed"
    },
    "tags": []
   },
   "outputs": [
    {
     "data": {
      "text/html": [
       "<div>\n",
       "<style scoped>\n",
       "    .dataframe tbody tr th:only-of-type {\n",
       "        vertical-align: middle;\n",
       "    }\n",
       "\n",
       "    .dataframe tbody tr th {\n",
       "        vertical-align: top;\n",
       "    }\n",
       "\n",
       "    .dataframe thead th {\n",
       "        text-align: right;\n",
       "    }\n",
       "</style>\n",
       "<table border=\"1\" class=\"dataframe\">\n",
       "  <thead>\n",
       "    <tr style=\"text-align: right;\">\n",
       "      <th></th>\n",
       "      <th>N</th>\n",
       "      <th>P</th>\n",
       "      <th>K</th>\n",
       "      <th>temperature</th>\n",
       "      <th>humidity</th>\n",
       "      <th>ph</th>\n",
       "      <th>rainfall</th>\n",
       "      <th>label</th>\n",
       "    </tr>\n",
       "  </thead>\n",
       "  <tbody>\n",
       "    <tr>\n",
       "      <th>0</th>\n",
       "      <td>90</td>\n",
       "      <td>42</td>\n",
       "      <td>43</td>\n",
       "      <td>20.879744</td>\n",
       "      <td>82.002744</td>\n",
       "      <td>6.502985</td>\n",
       "      <td>202.935536</td>\n",
       "      <td>rice</td>\n",
       "    </tr>\n",
       "    <tr>\n",
       "      <th>1</th>\n",
       "      <td>85</td>\n",
       "      <td>58</td>\n",
       "      <td>41</td>\n",
       "      <td>21.770462</td>\n",
       "      <td>80.319644</td>\n",
       "      <td>7.038096</td>\n",
       "      <td>226.655537</td>\n",
       "      <td>rice</td>\n",
       "    </tr>\n",
       "    <tr>\n",
       "      <th>2</th>\n",
       "      <td>60</td>\n",
       "      <td>55</td>\n",
       "      <td>44</td>\n",
       "      <td>23.004459</td>\n",
       "      <td>82.320763</td>\n",
       "      <td>7.840207</td>\n",
       "      <td>263.964248</td>\n",
       "      <td>rice</td>\n",
       "    </tr>\n",
       "    <tr>\n",
       "      <th>3</th>\n",
       "      <td>74</td>\n",
       "      <td>35</td>\n",
       "      <td>40</td>\n",
       "      <td>26.491096</td>\n",
       "      <td>80.158363</td>\n",
       "      <td>6.980401</td>\n",
       "      <td>242.864034</td>\n",
       "      <td>rice</td>\n",
       "    </tr>\n",
       "    <tr>\n",
       "      <th>4</th>\n",
       "      <td>78</td>\n",
       "      <td>42</td>\n",
       "      <td>42</td>\n",
       "      <td>20.130175</td>\n",
       "      <td>81.604873</td>\n",
       "      <td>7.628473</td>\n",
       "      <td>262.717340</td>\n",
       "      <td>rice</td>\n",
       "    </tr>\n",
       "  </tbody>\n",
       "</table>\n",
       "</div>"
      ],
      "text/plain": [
       "    N   P   K  temperature   humidity        ph    rainfall label\n",
       "0  90  42  43    20.879744  82.002744  6.502985  202.935536  rice\n",
       "1  85  58  41    21.770462  80.319644  7.038096  226.655537  rice\n",
       "2  60  55  44    23.004459  82.320763  7.840207  263.964248  rice\n",
       "3  74  35  40    26.491096  80.158363  6.980401  242.864034  rice\n",
       "4  78  42  42    20.130175  81.604873  7.628473  262.717340  rice"
      ]
     },
     "execution_count": 2,
     "metadata": {},
     "output_type": "execute_result"
    }
   ],
   "source": [
    "df_crop = pd.read_csv('../input/crop-recommendation-dataset/Crop_recommendation.csv')\n",
    "df_crop.head()"
   ]
  },
  {
   "cell_type": "code",
   "execution_count": 3,
   "id": "e31d76c7",
   "metadata": {
    "execution": {
     "iopub.execute_input": "2023-03-27T04:43:18.973061Z",
     "iopub.status.busy": "2023-03-27T04:43:18.971177Z",
     "iopub.status.idle": "2023-03-27T04:43:18.980696Z",
     "shell.execute_reply": "2023-03-27T04:43:18.979686Z"
    },
    "papermill": {
     "duration": 0.017223,
     "end_time": "2023-03-27T04:43:18.983215",
     "exception": false,
     "start_time": "2023-03-27T04:43:18.965992",
     "status": "completed"
    },
    "tags": []
   },
   "outputs": [
    {
     "data": {
      "text/plain": [
       "N              0\n",
       "P              0\n",
       "K              0\n",
       "temperature    0\n",
       "humidity       0\n",
       "ph             0\n",
       "rainfall       0\n",
       "label          0\n",
       "dtype: int64"
      ]
     },
     "execution_count": 3,
     "metadata": {},
     "output_type": "execute_result"
    }
   ],
   "source": [
    "df_crop.isna().sum()"
   ]
  },
  {
   "cell_type": "code",
   "execution_count": 4,
   "id": "bdb52788",
   "metadata": {
    "execution": {
     "iopub.execute_input": "2023-03-27T04:43:18.993258Z",
     "iopub.status.busy": "2023-03-27T04:43:18.993006Z",
     "iopub.status.idle": "2023-03-27T04:43:19.004077Z",
     "shell.execute_reply": "2023-03-27T04:43:19.003207Z"
    },
    "papermill": {
     "duration": 0.018508,
     "end_time": "2023-03-27T04:43:19.006012",
     "exception": false,
     "start_time": "2023-03-27T04:43:18.987504",
     "status": "completed"
    },
    "tags": []
   },
   "outputs": [
    {
     "data": {
      "text/plain": [
       "22"
      ]
     },
     "execution_count": 4,
     "metadata": {},
     "output_type": "execute_result"
    }
   ],
   "source": [
    "df_crop['label'].nunique()"
   ]
  },
  {
   "cell_type": "code",
   "execution_count": 5,
   "id": "bc6ce6de",
   "metadata": {
    "execution": {
     "iopub.execute_input": "2023-03-27T04:43:19.015986Z",
     "iopub.status.busy": "2023-03-27T04:43:19.015713Z",
     "iopub.status.idle": "2023-03-27T04:43:19.022175Z",
     "shell.execute_reply": "2023-03-27T04:43:19.021034Z"
    },
    "papermill": {
     "duration": 0.013742,
     "end_time": "2023-03-27T04:43:19.024119",
     "exception": false,
     "start_time": "2023-03-27T04:43:19.010377",
     "status": "completed"
    },
    "tags": []
   },
   "outputs": [
    {
     "data": {
      "text/plain": [
       "array(['rice', 'maize', 'chickpea', 'kidneybeans', 'pigeonpeas',\n",
       "       'mothbeans', 'mungbean', 'blackgram', 'lentil', 'pomegranate',\n",
       "       'banana', 'mango', 'grapes', 'watermelon', 'muskmelon', 'apple',\n",
       "       'orange', 'papaya', 'coconut', 'cotton', 'jute', 'coffee'],\n",
       "      dtype=object)"
      ]
     },
     "execution_count": 5,
     "metadata": {},
     "output_type": "execute_result"
    }
   ],
   "source": [
    "df_crop['label'].unique()"
   ]
  },
  {
   "cell_type": "code",
   "execution_count": 6,
   "id": "bd674c60",
   "metadata": {
    "execution": {
     "iopub.execute_input": "2023-03-27T04:43:19.035822Z",
     "iopub.status.busy": "2023-03-27T04:43:19.034371Z",
     "iopub.status.idle": "2023-03-27T04:43:19.068705Z",
     "shell.execute_reply": "2023-03-27T04:43:19.067673Z"
    },
    "papermill": {
     "duration": 0.041979,
     "end_time": "2023-03-27T04:43:19.070627",
     "exception": false,
     "start_time": "2023-03-27T04:43:19.028648",
     "status": "completed"
    },
    "tags": []
   },
   "outputs": [
    {
     "data": {
      "text/html": [
       "<div>\n",
       "<style scoped>\n",
       "    .dataframe tbody tr th:only-of-type {\n",
       "        vertical-align: middle;\n",
       "    }\n",
       "\n",
       "    .dataframe tbody tr th {\n",
       "        vertical-align: top;\n",
       "    }\n",
       "\n",
       "    .dataframe thead th {\n",
       "        text-align: right;\n",
       "    }\n",
       "</style>\n",
       "<table border=\"1\" class=\"dataframe\">\n",
       "  <thead>\n",
       "    <tr style=\"text-align: right;\">\n",
       "      <th></th>\n",
       "      <th>N</th>\n",
       "      <th>P</th>\n",
       "      <th>K</th>\n",
       "      <th>temperature</th>\n",
       "      <th>humidity</th>\n",
       "      <th>ph</th>\n",
       "      <th>rainfall</th>\n",
       "    </tr>\n",
       "  </thead>\n",
       "  <tbody>\n",
       "    <tr>\n",
       "      <th>count</th>\n",
       "      <td>2200.000000</td>\n",
       "      <td>2200.000000</td>\n",
       "      <td>2200.000000</td>\n",
       "      <td>2200.000000</td>\n",
       "      <td>2200.000000</td>\n",
       "      <td>2200.000000</td>\n",
       "      <td>2200.000000</td>\n",
       "    </tr>\n",
       "    <tr>\n",
       "      <th>mean</th>\n",
       "      <td>50.551818</td>\n",
       "      <td>53.362727</td>\n",
       "      <td>48.149091</td>\n",
       "      <td>25.616244</td>\n",
       "      <td>71.481779</td>\n",
       "      <td>6.469480</td>\n",
       "      <td>103.463655</td>\n",
       "    </tr>\n",
       "    <tr>\n",
       "      <th>std</th>\n",
       "      <td>36.917334</td>\n",
       "      <td>32.985883</td>\n",
       "      <td>50.647931</td>\n",
       "      <td>5.063749</td>\n",
       "      <td>22.263812</td>\n",
       "      <td>0.773938</td>\n",
       "      <td>54.958389</td>\n",
       "    </tr>\n",
       "    <tr>\n",
       "      <th>min</th>\n",
       "      <td>0.000000</td>\n",
       "      <td>5.000000</td>\n",
       "      <td>5.000000</td>\n",
       "      <td>8.825675</td>\n",
       "      <td>14.258040</td>\n",
       "      <td>3.504752</td>\n",
       "      <td>20.211267</td>\n",
       "    </tr>\n",
       "    <tr>\n",
       "      <th>25%</th>\n",
       "      <td>21.000000</td>\n",
       "      <td>28.000000</td>\n",
       "      <td>20.000000</td>\n",
       "      <td>22.769375</td>\n",
       "      <td>60.261953</td>\n",
       "      <td>5.971693</td>\n",
       "      <td>64.551686</td>\n",
       "    </tr>\n",
       "    <tr>\n",
       "      <th>50%</th>\n",
       "      <td>37.000000</td>\n",
       "      <td>51.000000</td>\n",
       "      <td>32.000000</td>\n",
       "      <td>25.598693</td>\n",
       "      <td>80.473146</td>\n",
       "      <td>6.425045</td>\n",
       "      <td>94.867624</td>\n",
       "    </tr>\n",
       "    <tr>\n",
       "      <th>75%</th>\n",
       "      <td>84.250000</td>\n",
       "      <td>68.000000</td>\n",
       "      <td>49.000000</td>\n",
       "      <td>28.561654</td>\n",
       "      <td>89.948771</td>\n",
       "      <td>6.923643</td>\n",
       "      <td>124.267508</td>\n",
       "    </tr>\n",
       "    <tr>\n",
       "      <th>max</th>\n",
       "      <td>140.000000</td>\n",
       "      <td>145.000000</td>\n",
       "      <td>205.000000</td>\n",
       "      <td>43.675493</td>\n",
       "      <td>99.981876</td>\n",
       "      <td>9.935091</td>\n",
       "      <td>298.560117</td>\n",
       "    </tr>\n",
       "  </tbody>\n",
       "</table>\n",
       "</div>"
      ],
      "text/plain": [
       "                 N            P            K  temperature     humidity  \\\n",
       "count  2200.000000  2200.000000  2200.000000  2200.000000  2200.000000   \n",
       "mean     50.551818    53.362727    48.149091    25.616244    71.481779   \n",
       "std      36.917334    32.985883    50.647931     5.063749    22.263812   \n",
       "min       0.000000     5.000000     5.000000     8.825675    14.258040   \n",
       "25%      21.000000    28.000000    20.000000    22.769375    60.261953   \n",
       "50%      37.000000    51.000000    32.000000    25.598693    80.473146   \n",
       "75%      84.250000    68.000000    49.000000    28.561654    89.948771   \n",
       "max     140.000000   145.000000   205.000000    43.675493    99.981876   \n",
       "\n",
       "                ph     rainfall  \n",
       "count  2200.000000  2200.000000  \n",
       "mean      6.469480   103.463655  \n",
       "std       0.773938    54.958389  \n",
       "min       3.504752    20.211267  \n",
       "25%       5.971693    64.551686  \n",
       "50%       6.425045    94.867624  \n",
       "75%       6.923643   124.267508  \n",
       "max       9.935091   298.560117  "
      ]
     },
     "execution_count": 6,
     "metadata": {},
     "output_type": "execute_result"
    }
   ],
   "source": [
    "df_crop.describe()"
   ]
  },
  {
   "cell_type": "code",
   "execution_count": 7,
   "id": "69b62c35",
   "metadata": {
    "execution": {
     "iopub.execute_input": "2023-03-27T04:43:19.082789Z",
     "iopub.status.busy": "2023-03-27T04:43:19.082086Z",
     "iopub.status.idle": "2023-03-27T04:43:19.096710Z",
     "shell.execute_reply": "2023-03-27T04:43:19.095573Z"
    },
    "papermill": {
     "duration": 0.023724,
     "end_time": "2023-03-27T04:43:19.099453",
     "exception": false,
     "start_time": "2023-03-27T04:43:19.075729",
     "status": "completed"
    },
    "tags": []
   },
   "outputs": [
    {
     "name": "stdout",
     "output_type": "stream",
     "text": [
      "<class 'pandas.core.frame.DataFrame'>\n",
      "RangeIndex: 2200 entries, 0 to 2199\n",
      "Data columns (total 8 columns):\n",
      " #   Column       Non-Null Count  Dtype  \n",
      "---  ------       --------------  -----  \n",
      " 0   N            2200 non-null   int64  \n",
      " 1   P            2200 non-null   int64  \n",
      " 2   K            2200 non-null   int64  \n",
      " 3   temperature  2200 non-null   float64\n",
      " 4   humidity     2200 non-null   float64\n",
      " 5   ph           2200 non-null   float64\n",
      " 6   rainfall     2200 non-null   float64\n",
      " 7   label        2200 non-null   object \n",
      "dtypes: float64(4), int64(3), object(1)\n",
      "memory usage: 137.6+ KB\n"
     ]
    }
   ],
   "source": [
    "df_crop.info()"
   ]
  },
  {
   "cell_type": "code",
   "execution_count": 8,
   "id": "f826d07a",
   "metadata": {
    "execution": {
     "iopub.execute_input": "2023-03-27T04:43:19.112734Z",
     "iopub.status.busy": "2023-03-27T04:43:19.111674Z",
     "iopub.status.idle": "2023-03-27T04:43:19.119947Z",
     "shell.execute_reply": "2023-03-27T04:43:19.118915Z"
    },
    "papermill": {
     "duration": 0.01701,
     "end_time": "2023-03-27T04:43:19.122305",
     "exception": false,
     "start_time": "2023-03-27T04:43:19.105295",
     "status": "completed"
    },
    "tags": []
   },
   "outputs": [
    {
     "data": {
      "text/plain": [
       "rice           100\n",
       "maize          100\n",
       "jute           100\n",
       "cotton         100\n",
       "coconut        100\n",
       "papaya         100\n",
       "orange         100\n",
       "apple          100\n",
       "muskmelon      100\n",
       "watermelon     100\n",
       "grapes         100\n",
       "mango          100\n",
       "banana         100\n",
       "pomegranate    100\n",
       "lentil         100\n",
       "blackgram      100\n",
       "mungbean       100\n",
       "mothbeans      100\n",
       "pigeonpeas     100\n",
       "kidneybeans    100\n",
       "chickpea       100\n",
       "coffee         100\n",
       "Name: label, dtype: int64"
      ]
     },
     "execution_count": 8,
     "metadata": {},
     "output_type": "execute_result"
    }
   ],
   "source": [
    "df_crop['label'].value_counts()"
   ]
  },
  {
   "cell_type": "code",
   "execution_count": 9,
   "id": "3ab33ba0",
   "metadata": {
    "execution": {
     "iopub.execute_input": "2023-03-27T04:43:19.134306Z",
     "iopub.status.busy": "2023-03-27T04:43:19.133225Z",
     "iopub.status.idle": "2023-03-27T04:43:19.149787Z",
     "shell.execute_reply": "2023-03-27T04:43:19.148661Z"
    },
    "papermill": {
     "duration": 0.024722,
     "end_time": "2023-03-27T04:43:19.152233",
     "exception": false,
     "start_time": "2023-03-27T04:43:19.127511",
     "status": "completed"
    },
    "tags": []
   },
   "outputs": [
    {
     "data": {
      "text/html": [
       "<div>\n",
       "<style scoped>\n",
       "    .dataframe tbody tr th:only-of-type {\n",
       "        vertical-align: middle;\n",
       "    }\n",
       "\n",
       "    .dataframe tbody tr th {\n",
       "        vertical-align: top;\n",
       "    }\n",
       "\n",
       "    .dataframe thead th {\n",
       "        text-align: right;\n",
       "    }\n",
       "</style>\n",
       "<table border=\"1\" class=\"dataframe\">\n",
       "  <thead>\n",
       "    <tr style=\"text-align: right;\">\n",
       "      <th></th>\n",
       "      <th>N</th>\n",
       "      <th>P</th>\n",
       "      <th>K</th>\n",
       "      <th>temperature</th>\n",
       "      <th>humidity</th>\n",
       "      <th>ph</th>\n",
       "      <th>rainfall</th>\n",
       "      <th>label</th>\n",
       "    </tr>\n",
       "  </thead>\n",
       "  <tbody>\n",
       "    <tr>\n",
       "      <th>0</th>\n",
       "      <td>90</td>\n",
       "      <td>42</td>\n",
       "      <td>43</td>\n",
       "      <td>20.879744</td>\n",
       "      <td>82.002744</td>\n",
       "      <td>6.502985</td>\n",
       "      <td>202.935536</td>\n",
       "      <td>20</td>\n",
       "    </tr>\n",
       "    <tr>\n",
       "      <th>1</th>\n",
       "      <td>85</td>\n",
       "      <td>58</td>\n",
       "      <td>41</td>\n",
       "      <td>21.770462</td>\n",
       "      <td>80.319644</td>\n",
       "      <td>7.038096</td>\n",
       "      <td>226.655537</td>\n",
       "      <td>20</td>\n",
       "    </tr>\n",
       "    <tr>\n",
       "      <th>2</th>\n",
       "      <td>60</td>\n",
       "      <td>55</td>\n",
       "      <td>44</td>\n",
       "      <td>23.004459</td>\n",
       "      <td>82.320763</td>\n",
       "      <td>7.840207</td>\n",
       "      <td>263.964248</td>\n",
       "      <td>20</td>\n",
       "    </tr>\n",
       "    <tr>\n",
       "      <th>3</th>\n",
       "      <td>74</td>\n",
       "      <td>35</td>\n",
       "      <td>40</td>\n",
       "      <td>26.491096</td>\n",
       "      <td>80.158363</td>\n",
       "      <td>6.980401</td>\n",
       "      <td>242.864034</td>\n",
       "      <td>20</td>\n",
       "    </tr>\n",
       "    <tr>\n",
       "      <th>4</th>\n",
       "      <td>78</td>\n",
       "      <td>42</td>\n",
       "      <td>42</td>\n",
       "      <td>20.130175</td>\n",
       "      <td>81.604873</td>\n",
       "      <td>7.628473</td>\n",
       "      <td>262.717340</td>\n",
       "      <td>20</td>\n",
       "    </tr>\n",
       "    <tr>\n",
       "      <th>...</th>\n",
       "      <td>...</td>\n",
       "      <td>...</td>\n",
       "      <td>...</td>\n",
       "      <td>...</td>\n",
       "      <td>...</td>\n",
       "      <td>...</td>\n",
       "      <td>...</td>\n",
       "      <td>...</td>\n",
       "    </tr>\n",
       "    <tr>\n",
       "      <th>2195</th>\n",
       "      <td>107</td>\n",
       "      <td>34</td>\n",
       "      <td>32</td>\n",
       "      <td>26.774637</td>\n",
       "      <td>66.413269</td>\n",
       "      <td>6.780064</td>\n",
       "      <td>177.774507</td>\n",
       "      <td>5</td>\n",
       "    </tr>\n",
       "    <tr>\n",
       "      <th>2196</th>\n",
       "      <td>99</td>\n",
       "      <td>15</td>\n",
       "      <td>27</td>\n",
       "      <td>27.417112</td>\n",
       "      <td>56.636362</td>\n",
       "      <td>6.086922</td>\n",
       "      <td>127.924610</td>\n",
       "      <td>5</td>\n",
       "    </tr>\n",
       "    <tr>\n",
       "      <th>2197</th>\n",
       "      <td>118</td>\n",
       "      <td>33</td>\n",
       "      <td>30</td>\n",
       "      <td>24.131797</td>\n",
       "      <td>67.225123</td>\n",
       "      <td>6.362608</td>\n",
       "      <td>173.322839</td>\n",
       "      <td>5</td>\n",
       "    </tr>\n",
       "    <tr>\n",
       "      <th>2198</th>\n",
       "      <td>117</td>\n",
       "      <td>32</td>\n",
       "      <td>34</td>\n",
       "      <td>26.272418</td>\n",
       "      <td>52.127394</td>\n",
       "      <td>6.758793</td>\n",
       "      <td>127.175293</td>\n",
       "      <td>5</td>\n",
       "    </tr>\n",
       "    <tr>\n",
       "      <th>2199</th>\n",
       "      <td>104</td>\n",
       "      <td>18</td>\n",
       "      <td>30</td>\n",
       "      <td>23.603016</td>\n",
       "      <td>60.396475</td>\n",
       "      <td>6.779833</td>\n",
       "      <td>140.937041</td>\n",
       "      <td>5</td>\n",
       "    </tr>\n",
       "  </tbody>\n",
       "</table>\n",
       "<p>2200 rows × 8 columns</p>\n",
       "</div>"
      ],
      "text/plain": [
       "        N   P   K  temperature   humidity        ph    rainfall  label\n",
       "0      90  42  43    20.879744  82.002744  6.502985  202.935536     20\n",
       "1      85  58  41    21.770462  80.319644  7.038096  226.655537     20\n",
       "2      60  55  44    23.004459  82.320763  7.840207  263.964248     20\n",
       "3      74  35  40    26.491096  80.158363  6.980401  242.864034     20\n",
       "4      78  42  42    20.130175  81.604873  7.628473  262.717340     20\n",
       "...   ...  ..  ..          ...        ...       ...         ...    ...\n",
       "2195  107  34  32    26.774637  66.413269  6.780064  177.774507      5\n",
       "2196   99  15  27    27.417112  56.636362  6.086922  127.924610      5\n",
       "2197  118  33  30    24.131797  67.225123  6.362608  173.322839      5\n",
       "2198  117  32  34    26.272418  52.127394  6.758793  127.175293      5\n",
       "2199  104  18  30    23.603016  60.396475  6.779833  140.937041      5\n",
       "\n",
       "[2200 rows x 8 columns]"
      ]
     },
     "execution_count": 9,
     "metadata": {},
     "output_type": "execute_result"
    }
   ],
   "source": [
    "label_encode = LabelEncoder()\n",
    "\n",
    "df_crop['label'] = label_encode.fit_transform(df_crop['label'])\n",
    "crop_category = {index : label for index, label in enumerate(label_encode.classes_)}\n",
    "crop_category\n",
    "df_crop"
   ]
  },
  {
   "cell_type": "code",
   "execution_count": 10,
   "id": "aae11c4a",
   "metadata": {
    "execution": {
     "iopub.execute_input": "2023-03-27T04:43:19.164083Z",
     "iopub.status.busy": "2023-03-27T04:43:19.163344Z",
     "iopub.status.idle": "2023-03-27T04:43:19.753223Z",
     "shell.execute_reply": "2023-03-27T04:43:19.752250Z"
    },
    "papermill": {
     "duration": 0.5985,
     "end_time": "2023-03-27T04:43:19.755900",
     "exception": false,
     "start_time": "2023-03-27T04:43:19.157400",
     "status": "completed"
    },
    "tags": []
   },
   "outputs": [
    {
     "data": {
      "image/png": "[encoded data removed]",
      "text/plain": [
       "<Figure size 1224x576 with 2 Axes>"
      ]
     },
     "metadata": {
      "needs_background": "light"
     },
     "output_type": "display_data"
    }
   ],
   "source": [
    "fig, ax = plt.subplots(1, 1, figsize=(17, 8))\n",
    "sns.heatmap(df_crop.corr(), annot=True )\n",
    "plt.title('Correlation between different features', fontsize = 15, c='black')\n",
    "plt.show()"
   ]
  },
  {
   "cell_type": "code",
   "execution_count": 11,
   "id": "acaa030d",
   "metadata": {
    "execution": {
     "iopub.execute_input": "2023-03-27T04:43:19.770764Z",
     "iopub.status.busy": "2023-03-27T04:43:19.769046Z",
     "iopub.status.idle": "2023-03-27T04:43:19.798739Z",
     "shell.execute_reply": "2023-03-27T04:43:19.797512Z"
    },
    "papermill": {
     "duration": 0.039607,
     "end_time": "2023-03-27T04:43:19.801663",
     "exception": false,
     "start_time": "2023-03-27T04:43:19.762056",
     "status": "completed"
    },
    "tags": []
   },
   "outputs": [
    {
     "name": "stdout",
     "output_type": "stream",
     "text": [
      "Loading data...\n",
      "1760 train sequences\n",
      "440 test sequences\n"
     ]
    }
   ],
   "source": [
    "X = df_crop.drop('label', axis = 1)\n",
    "y = df_crop['label']\n",
    "crop_summary = pd.pivot_table(df_crop,index=['label'],aggfunc='mean')\n",
    "crop_summary.head()\n",
    "X = df_crop.drop('label', axis = 1)\n",
    "y = df_crop['label']\n",
    "X = X.to_numpy()\n",
    "X = X.reshape(X.shape[0], X.shape[1], 1)\n",
    "X.shape\n",
    "y = y.to_numpy()\n",
    "y = y.reshape(y.shape[0], 1)\n",
    "y.shape\n",
    "print('Loading data...')\n",
    "X_train, X_test, y_train, y_test = tts(X, y, train_size = 0.80)\n",
    "print(len(X_train), 'train sequences')\n",
    "print(len(X_test), 'test sequences')\n",
    "\n",
    "# Define the hyperparameter search space for the genetic algorithm\n",
    "search_space = {\n",
    "    'n_layers': randint(1, 3),\n",
    "    'n_units': randint(32, 128),\n",
    "    'dropout_rate': np.arange(0.1, 0.5, 0.1),\n",
    "    'batch_size': [32, 64, 128],\n",
    "    'learning_rate': [1e-4, 1e-3, 1e-2],\n",
    "    'n_epochs': randint(10, 100),\n",
    "    'optimizer': ['adam', 'rmsprop']\n",
    "}\n",
    "\n",
    "def create_model(n_layers, n_units, dropout_rate, learning_rate, optimizer):\n",
    "    # Define the architecture of the LSTM model\n",
    "    model = Sequential()\n",
    "    # Add LSTM layers with dropout regularization\n",
    "    for i in range(n_layers):\n",
    "        if i == 0:\n",
    "            # First layer should specify input shape\n",
    "            model.add(LSTM(units=n_units, return_sequences=True, input_shape=(None, 1)))\n",
    "        elif i == n_layers - 1:\n",
    "            # Last layer should not return sequences\n",
    "            model.add(LSTM(units=n_units, dropout=dropout_rate))\n",
    "        else:\n",
    "            # Intermediate layers should return sequences\n",
    "            model.add(LSTM(units=n_units, return_sequences=True, dropout=dropout_rate))\n",
    "        model.add(Dropout(rate=dropout_rate))\n",
    "    \n",
    "    # Add a dense layer to output a single value\n",
    "    model.add(Dense(units=1))\n",
    "    \n",
    "    # Compile the model with the specified optimizer and learning rate\n",
    "    optimizer = Adam(learning_rate=learning_rate)\n",
    "\n",
    "#     optimizer = getattr(keras.optimizers, optimizer)(learning_rate=learning_rate)\n",
    "    model.compile(loss='mean_squared_error', optimizer=optimizer, metrics = 'accuracy')\n",
    "    \n",
    "    return model"
   ]
  },
  {
   "cell_type": "code",
   "execution_count": 12,
   "id": "50f2bb27",
   "metadata": {
    "execution": {
     "iopub.execute_input": "2023-03-27T04:43:19.815494Z",
     "iopub.status.busy": "2023-03-27T04:43:19.815204Z",
     "iopub.status.idle": "2023-03-27T04:43:30.207237Z",
     "shell.execute_reply": "2023-03-27T04:43:30.205865Z"
    },
    "papermill": {
     "duration": 10.402067,
     "end_time": "2023-03-27T04:43:30.210508",
     "exception": false,
     "start_time": "2023-03-27T04:43:19.808441",
     "status": "completed"
    },
    "tags": []
   },
   "outputs": [
    {
     "name": "stdout",
     "output_type": "stream",
     "text": [
      "Epoch 1/10\n",
      "32/32 [==============================] - 5s 5ms/step - loss: 1.0115 - accuracy: 0.0000e+00\n",
      "Epoch 2/10\n",
      "32/32 [==============================] - 0s 5ms/step - loss: 1.0141 - accuracy: 0.0000e+00\n",
      "Epoch 3/10\n",
      "32/32 [==============================] - 0s 5ms/step - loss: 1.0118 - accuracy: 0.0000e+00\n",
      "Epoch 4/10\n",
      "32/32 [==============================] - 0s 5ms/step - loss: 1.0102 - accuracy: 0.0000e+00\n",
      "Epoch 5/10\n",
      "32/32 [==============================] - 0s 5ms/step - loss: 1.0102 - accuracy: 0.0000e+00\n",
      "Epoch 6/10\n",
      "32/32 [==============================] - 0s 5ms/step - loss: 1.0076 - accuracy: 0.0000e+00\n",
      "Epoch 7/10\n",
      "32/32 [==============================] - 0s 5ms/step - loss: 1.0082 - accuracy: 0.0000e+00\n",
      "Epoch 8/10\n",
      "32/32 [==============================] - 0s 5ms/step - loss: 1.0089 - accuracy: 0.0000e+00\n",
      "Epoch 9/10\n",
      "32/32 [==============================] - 0s 5ms/step - loss: 1.0123 - accuracy: 0.0000e+00\n",
      "Epoch 10/10\n",
      "32/32 [==============================] - 0s 5ms/step - loss: 1.0102 - accuracy: 0.0000e+00\n",
      "[[0.03691214]]\n"
     ]
    }
   ],
   "source": [
    "# n_layers = 2\n",
    "# n_units = 50\n",
    "# dropout_rate = 0.2\n",
    "# learning_rate = 0.01\n",
    "# optimizer = 'adam'\n",
    "\n",
    "# # Create the model\n",
    "# model = create_model(n_layers, n_units, dropout_rate, learning_rate, optimizer)\n",
    "\n",
    "# # Train the model\n",
    "# epochs = 100\n",
    "# history = model.fit(X_train, y_train, epochs=epochs, batch_size=32, validation_data=(X_test, y_test), verbose=2)\n",
    "\n",
    "# # Make predictions\n",
    "# y_pred = model.predict(X_test)\n",
    "\n",
    "# # Evaluate the model\n",
    "# score = model.evaluate(X_test, y_test, verbose=0)\n",
    "# print('Test loss:', score)\n",
    "\n",
    "data = np.random.randn(1000, 10, 1)\n",
    "labels = np.random.randn(1000, 1)\n",
    "\n",
    "# Set hyperparameters\n",
    "n_layers = 2\n",
    "n_units = 64\n",
    "dropout_rate = 0.2\n",
    "learning_rate = 0.001\n",
    "optimizer = 'Adam'\n",
    "\n",
    "# Create the model\n",
    "model = create_model(n_layers, n_units, dropout_rate, learning_rate, optimizer)\n",
    "\n",
    "# Train the model\n",
    "epochs = 10\n",
    "batch_size = 32\n",
    "model.fit(data, labels, epochs=epochs, batch_size=batch_size)\n",
    "\n",
    "# Make a prediction\n",
    "test_data = np.random.randn(1, 10, 1)\n",
    "prediction = model.predict(test_data)\n",
    "print(prediction)"
   ]
  },
  {
   "cell_type": "code",
   "execution_count": 13,
   "id": "0d8494b5",
   "metadata": {
    "execution": {
     "iopub.execute_input": "2023-03-27T04:43:30.231434Z",
     "iopub.status.busy": "2023-03-27T04:43:30.231102Z",
     "iopub.status.idle": "2023-03-27T04:43:44.701241Z",
     "shell.execute_reply": "2023-03-27T04:43:44.700291Z"
    },
    "papermill": {
     "duration": 14.483639,
     "end_time": "2023-03-27T04:43:44.703478",
     "exception": false,
     "start_time": "2023-03-27T04:43:30.219839",
     "status": "completed"
    },
    "tags": []
   },
   "outputs": [
    {
     "name": "stdout",
     "output_type": "stream",
     "text": [
      "Epoch 1/50\n",
      "28/28 [==============================] - 4s 6ms/step - loss: 85.1498 - accuracy: 0.0466\n",
      "Epoch 2/50\n",
      "28/28 [==============================] - 0s 6ms/step - loss: 41.4897 - accuracy: 0.0460\n",
      "Epoch 3/50\n",
      "28/28 [==============================] - 0s 6ms/step - loss: 41.9083 - accuracy: 0.0460\n",
      "Epoch 4/50\n",
      "28/28 [==============================] - 0s 6ms/step - loss: 41.6731 - accuracy: 0.0460\n",
      "Epoch 5/50\n",
      "28/28 [==============================] - 0s 6ms/step - loss: 41.8811 - accuracy: 0.0460\n",
      "Epoch 6/50\n",
      "28/28 [==============================] - 0s 6ms/step - loss: 41.9086 - accuracy: 0.0460\n",
      "Epoch 7/50\n",
      "28/28 [==============================] - 0s 6ms/step - loss: 41.7226 - accuracy: 0.0460\n",
      "Epoch 8/50\n",
      "28/28 [==============================] - 0s 6ms/step - loss: 41.1988 - accuracy: 0.0460\n",
      "Epoch 9/50\n",
      "28/28 [==============================] - 0s 6ms/step - loss: 41.3857 - accuracy: 0.0460\n",
      "Epoch 10/50\n",
      "28/28 [==============================] - 0s 6ms/step - loss: 41.0285 - accuracy: 0.0460\n",
      "Epoch 11/50\n",
      "28/28 [==============================] - 0s 6ms/step - loss: 40.6362 - accuracy: 0.0460\n",
      "Epoch 12/50\n",
      "28/28 [==============================] - 0s 6ms/step - loss: 39.3962 - accuracy: 0.0460\n",
      "Epoch 13/50\n",
      "28/28 [==============================] - 0s 6ms/step - loss: 33.0972 - accuracy: 0.0460\n",
      "Epoch 14/50\n",
      "28/28 [==============================] - 0s 6ms/step - loss: 28.6484 - accuracy: 0.0460\n",
      "Epoch 15/50\n",
      "28/28 [==============================] - 0s 6ms/step - loss: 27.1551 - accuracy: 0.0460\n",
      "Epoch 16/50\n",
      "28/28 [==============================] - 0s 6ms/step - loss: 22.9554 - accuracy: 0.0460\n",
      "Epoch 17/50\n",
      "28/28 [==============================] - 0s 10ms/step - loss: 21.4698 - accuracy: 0.0460\n",
      "Epoch 18/50\n",
      "28/28 [==============================] - 0s 9ms/step - loss: 19.1447 - accuracy: 0.0460\n",
      "Epoch 19/50\n",
      "28/28 [==============================] - 0s 8ms/step - loss: 18.3308 - accuracy: 0.0460\n",
      "Epoch 20/50\n",
      "28/28 [==============================] - 0s 6ms/step - loss: 16.8306 - accuracy: 0.0460\n",
      "Epoch 21/50\n",
      "28/28 [==============================] - 0s 6ms/step - loss: 15.8437 - accuracy: 0.0460\n",
      "Epoch 22/50\n",
      "28/28 [==============================] - 0s 6ms/step - loss: 14.8590 - accuracy: 0.0460\n",
      "Epoch 23/50\n",
      "28/28 [==============================] - 0s 6ms/step - loss: 13.9973 - accuracy: 0.0460\n",
      "Epoch 24/50\n",
      "28/28 [==============================] - 0s 6ms/step - loss: 12.6431 - accuracy: 0.0460\n",
      "Epoch 25/50\n",
      "28/28 [==============================] - 0s 6ms/step - loss: 11.6985 - accuracy: 0.0460\n",
      "Epoch 26/50\n",
      "28/28 [==============================] - 0s 6ms/step - loss: 11.3315 - accuracy: 0.0460\n",
      "Epoch 27/50\n",
      "28/28 [==============================] - 0s 6ms/step - loss: 10.6923 - accuracy: 0.0460\n",
      "Epoch 28/50\n",
      "28/28 [==============================] - 0s 6ms/step - loss: 10.8085 - accuracy: 0.0460\n",
      "Epoch 29/50\n",
      "28/28 [==============================] - 0s 6ms/step - loss: 10.3224 - accuracy: 0.0460\n",
      "Epoch 30/50\n",
      "28/28 [==============================] - 0s 6ms/step - loss: 9.5308 - accuracy: 0.0460\n",
      "Epoch 31/50\n",
      "28/28 [==============================] - 0s 6ms/step - loss: 9.7406 - accuracy: 0.0460\n",
      "Epoch 32/50\n",
      "28/28 [==============================] - 0s 6ms/step - loss: 9.1209 - accuracy: 0.0460\n",
      "Epoch 33/50\n",
      "28/28 [==============================] - 0s 6ms/step - loss: 9.3257 - accuracy: 0.0460\n",
      "Epoch 34/50\n",
      "28/28 [==============================] - 0s 6ms/step - loss: 9.1821 - accuracy: 0.0460\n",
      "Epoch 35/50\n",
      "28/28 [==============================] - 0s 6ms/step - loss: 8.9595 - accuracy: 0.0460\n",
      "Epoch 36/50\n",
      "28/28 [==============================] - 0s 6ms/step - loss: 8.6404 - accuracy: 0.0460\n",
      "Epoch 37/50\n",
      "28/28 [==============================] - 0s 6ms/step - loss: 8.9418 - accuracy: 0.0460\n",
      "Epoch 38/50\n",
      "28/28 [==============================] - 0s 6ms/step - loss: 8.6718 - accuracy: 0.0460\n",
      "Epoch 39/50\n",
      "28/28 [==============================] - 0s 6ms/step - loss: 7.9879 - accuracy: 0.0460\n",
      "Epoch 40/50\n",
      "28/28 [==============================] - 0s 6ms/step - loss: 8.6949 - accuracy: 0.0460\n",
      "Epoch 41/50\n",
      "28/28 [==============================] - 0s 6ms/step - loss: 7.9515 - accuracy: 0.0460\n",
      "Epoch 42/50\n",
      "28/28 [==============================] - 0s 6ms/step - loss: 7.9466 - accuracy: 0.0460\n",
      "Epoch 43/50\n",
      "28/28 [==============================] - 0s 6ms/step - loss: 7.8105 - accuracy: 0.0460\n",
      "Epoch 44/50\n",
      "28/28 [==============================] - 0s 6ms/step - loss: 6.9058 - accuracy: 0.0460\n",
      "Epoch 45/50\n",
      "28/28 [==============================] - 0s 6ms/step - loss: 6.6708 - accuracy: 0.0460\n",
      "Epoch 46/50\n",
      "28/28 [==============================] - 0s 6ms/step - loss: 6.8913 - accuracy: 0.0460\n",
      "Epoch 47/50\n",
      "28/28 [==============================] - 0s 6ms/step - loss: 7.2255 - accuracy: 0.0460\n",
      "Epoch 48/50\n",
      "28/28 [==============================] - 0s 6ms/step - loss: 6.7945 - accuracy: 0.0460\n",
      "Epoch 49/50\n",
      "28/28 [==============================] - 0s 6ms/step - loss: 6.4645 - accuracy: 0.0460\n",
      "Epoch 50/50\n",
      "28/28 [==============================] - 0s 6ms/step - loss: 6.4086 - accuracy: 0.0460\n",
      "14/14 [==============================] - 1s 3ms/step - loss: 3.4947 - accuracy: 0.0432\n",
      "Test loss: [3.494715452194214, 0.04318181797862053]\n"
     ]
    }
   ],
   "source": [
    "n_layers = 3\n",
    "n_units = 64\n",
    "dropout_rate = 0.2\n",
    "learning_rate = 0.001\n",
    "optimizer = 'Adam'\n",
    "\n",
    "# Train the model with the new hyperparameters\n",
    "model = create_model(n_layers, n_units, dropout_rate, learning_rate, optimizer)\n",
    "history = model.fit(X_train, y_train, epochs=50, batch_size=64)\n",
    "\n",
    "# Evaluate the model on the test set\n",
    "test_loss = model.evaluate(X_test, y_test)\n",
    "\n",
    "# Print the test loss\n",
    "print('Test loss:', test_loss)\n",
    "\n",
    "# Update the hyperparameters for the final model\n",
    "n_layers = 2\n",
    "n_units = 128\n",
    "dropout_rate = 0.3\n",
    "learning_rate = 0.0005\n",
    "optimizer = 'Adamax'\n",
    "\n",
    "# Create the final model with the updated hyperparameters\n",
    "final_model = create_model(n_layers, n_units, dropout_rate, learning_rate, optimizer)\n"
   ]
  },
  {
   "cell_type": "code",
   "execution_count": 14,
   "id": "e68d7668",
   "metadata": {
    "execution": {
     "iopub.execute_input": "2023-03-27T04:43:44.749481Z",
     "iopub.status.busy": "2023-03-27T04:43:44.748626Z",
     "iopub.status.idle": "2023-03-27T04:43:45.891505Z",
     "shell.execute_reply": "2023-03-27T04:43:45.890530Z"
    },
    "papermill": {
     "duration": 1.16741,
     "end_time": "2023-03-27T04:43:45.893881",
     "exception": false,
     "start_time": "2023-03-27T04:43:44.726471",
     "status": "completed"
    },
    "tags": []
   },
   "outputs": [
    {
     "name": "stdout",
     "output_type": "stream",
     "text": [
      "14/14 [==============================] - 0s 3ms/step - loss: 3.4947 - accuracy: 0.0432\n",
      "Test loss: [3.494715452194214, 0.04318181797862053]\n"
     ]
    },
    {
     "data": {
      "image/png": "[encoded data removed]",
      "text/plain": [
       "<Figure size 432x288 with 1 Axes>"
      ]
     },
     "metadata": {
      "needs_background": "light"
     },
     "output_type": "display_data"
    }
   ],
   "source": [
    "# Evaluate the model on the test set\n",
    "test_loss = model.evaluate(X_test, y_test)\n",
    "\n",
    "# Print the test loss\n",
    "print('Test loss:', test_loss)\n",
    "\n",
    "# Make predictions on the test set\n",
    "y_pred = model.predict(X_test)\n",
    "\n",
    "# Plot the predicted values against the true values\n",
    "import matplotlib.pyplot as plt\n",
    "\n",
    "plt.plot(y_test, label='True')\n",
    "plt.plot(y_pred, label='Predicted')\n",
    "plt.legend()\n",
    "plt.show()"
   ]
  },
  {
   "cell_type": "code",
   "execution_count": 15,
   "id": "5e94890d",
   "metadata": {
    "execution": {
     "iopub.execute_input": "2023-03-27T04:43:45.940553Z",
     "iopub.status.busy": "2023-03-27T04:43:45.938964Z",
     "iopub.status.idle": "2023-03-27T04:43:46.679294Z",
     "shell.execute_reply": "2023-03-27T04:43:46.678225Z"
    },
    "papermill": {
     "duration": 0.765474,
     "end_time": "2023-03-27T04:43:46.681624",
     "exception": false,
     "start_time": "2023-03-27T04:43:45.916150",
     "status": "completed"
    },
    "tags": []
   },
   "outputs": [],
   "source": [
    "final_model = create_model(n_layers, n_units, dropout_rate, learning_rate, optimizer)\n"
   ]
  },
  {
   "cell_type": "code",
   "execution_count": 16,
   "id": "2cc79d09",
   "metadata": {
    "execution": {
     "iopub.execute_input": "2023-03-27T04:43:46.727389Z",
     "iopub.status.busy": "2023-03-27T04:43:46.726785Z",
     "iopub.status.idle": "2023-03-27T04:43:58.110260Z",
     "shell.execute_reply": "2023-03-27T04:43:58.109329Z"
    },
    "papermill": {
     "duration": 11.408923,
     "end_time": "2023-03-27T04:43:58.112712",
     "exception": false,
     "start_time": "2023-03-27T04:43:46.703789",
     "status": "completed"
    },
    "tags": []
   },
   "outputs": [
    {
     "name": "stdout",
     "output_type": "stream",
     "text": [
      "Epoch 1/50\n",
      "28/28 [==============================] - 3s 5ms/step - loss: 82.4391 - accuracy: 0.0460\n",
      "Epoch 2/50\n",
      "28/28 [==============================] - 0s 5ms/step - loss: 41.7209 - accuracy: 0.0460\n",
      "Epoch 3/50\n",
      "28/28 [==============================] - 0s 5ms/step - loss: 41.0050 - accuracy: 0.0460\n",
      "Epoch 4/50\n",
      "28/28 [==============================] - 0s 5ms/step - loss: 40.8409 - accuracy: 0.0460\n",
      "Epoch 5/50\n",
      "28/28 [==============================] - 0s 5ms/step - loss: 40.1984 - accuracy: 0.0460\n",
      "Epoch 6/50\n",
      "28/28 [==============================] - 0s 5ms/step - loss: 39.3070 - accuracy: 0.0460\n",
      "Epoch 7/50\n",
      "28/28 [==============================] - 0s 5ms/step - loss: 38.3623 - accuracy: 0.0460\n",
      "Epoch 8/50\n",
      "28/28 [==============================] - 0s 5ms/step - loss: 36.0351 - accuracy: 0.0460\n",
      "Epoch 9/50\n",
      "28/28 [==============================] - 0s 5ms/step - loss: 31.1074 - accuracy: 0.0460\n",
      "Epoch 10/50\n",
      "28/28 [==============================] - 0s 5ms/step - loss: 25.1027 - accuracy: 0.0460\n",
      "Epoch 11/50\n",
      "28/28 [==============================] - 0s 5ms/step - loss: 22.8819 - accuracy: 0.0460\n",
      "Epoch 12/50\n",
      "28/28 [==============================] - 0s 5ms/step - loss: 22.6030 - accuracy: 0.0460\n",
      "Epoch 13/50\n",
      "28/28 [==============================] - 0s 5ms/step - loss: 19.6827 - accuracy: 0.0460\n",
      "Epoch 14/50\n",
      "28/28 [==============================] - 0s 5ms/step - loss: 19.0872 - accuracy: 0.0460\n",
      "Epoch 15/50\n",
      "28/28 [==============================] - 0s 5ms/step - loss: 18.0010 - accuracy: 0.0460\n",
      "Epoch 16/50\n",
      "28/28 [==============================] - 0s 5ms/step - loss: 16.7565 - accuracy: 0.0460\n",
      "Epoch 17/50\n",
      "28/28 [==============================] - 0s 5ms/step - loss: 15.9033 - accuracy: 0.0460\n",
      "Epoch 18/50\n",
      "28/28 [==============================] - 0s 5ms/step - loss: 14.7609 - accuracy: 0.0460\n",
      "Epoch 19/50\n",
      "28/28 [==============================] - 0s 5ms/step - loss: 13.8578 - accuracy: 0.0455\n",
      "Epoch 20/50\n",
      "28/28 [==============================] - 0s 5ms/step - loss: 12.4739 - accuracy: 0.0466\n",
      "Epoch 21/50\n",
      "28/28 [==============================] - 0s 5ms/step - loss: 12.2514 - accuracy: 0.0443\n",
      "Epoch 22/50\n",
      "28/28 [==============================] - 0s 5ms/step - loss: 10.7826 - accuracy: 0.0455\n",
      "Epoch 23/50\n",
      "28/28 [==============================] - 0s 5ms/step - loss: 10.5915 - accuracy: 0.0460\n",
      "Epoch 24/50\n",
      "28/28 [==============================] - 0s 5ms/step - loss: 9.6944 - accuracy: 0.0455\n",
      "Epoch 25/50\n",
      "28/28 [==============================] - 0s 5ms/step - loss: 8.9184 - accuracy: 0.0449\n",
      "Epoch 26/50\n",
      "28/28 [==============================] - 0s 4ms/step - loss: 9.1961 - accuracy: 0.0523\n",
      "Epoch 27/50\n",
      "28/28 [==============================] - 0s 5ms/step - loss: 8.4852 - accuracy: 0.0494\n",
      "Epoch 28/50\n",
      "28/28 [==============================] - 0s 5ms/step - loss: 8.0366 - accuracy: 0.0545\n",
      "Epoch 29/50\n",
      "28/28 [==============================] - 0s 5ms/step - loss: 7.9666 - accuracy: 0.0494\n",
      "Epoch 30/50\n",
      "28/28 [==============================] - 0s 5ms/step - loss: 7.3359 - accuracy: 0.0557\n",
      "Epoch 31/50\n",
      "28/28 [==============================] - 0s 5ms/step - loss: 7.5776 - accuracy: 0.0528\n",
      "Epoch 32/50\n",
      "28/28 [==============================] - 0s 5ms/step - loss: 7.0508 - accuracy: 0.0511\n",
      "Epoch 33/50\n",
      "28/28 [==============================] - 0s 5ms/step - loss: 6.8743 - accuracy: 0.0551\n",
      "Epoch 34/50\n",
      "28/28 [==============================] - 0s 5ms/step - loss: 6.3775 - accuracy: 0.0534\n",
      "Epoch 35/50\n",
      "28/28 [==============================] - 0s 5ms/step - loss: 6.6599 - accuracy: 0.0585\n",
      "Epoch 36/50\n",
      "28/28 [==============================] - 0s 5ms/step - loss: 6.4532 - accuracy: 0.0614\n",
      "Epoch 37/50\n",
      "28/28 [==============================] - 0s 5ms/step - loss: 6.3784 - accuracy: 0.0523\n",
      "Epoch 38/50\n",
      "28/28 [==============================] - 0s 5ms/step - loss: 6.4261 - accuracy: 0.0551\n",
      "Epoch 39/50\n",
      "28/28 [==============================] - 0s 5ms/step - loss: 5.9883 - accuracy: 0.0602\n",
      "Epoch 40/50\n",
      "28/28 [==============================] - 0s 5ms/step - loss: 6.0606 - accuracy: 0.0562\n",
      "Epoch 41/50\n",
      "28/28 [==============================] - 0s 5ms/step - loss: 5.9779 - accuracy: 0.0602\n",
      "Epoch 42/50\n",
      "28/28 [==============================] - 0s 5ms/step - loss: 5.9353 - accuracy: 0.0625\n",
      "Epoch 43/50\n",
      "28/28 [==============================] - 0s 5ms/step - loss: 5.6971 - accuracy: 0.0557\n",
      "Epoch 44/50\n",
      "28/28 [==============================] - 0s 5ms/step - loss: 5.9452 - accuracy: 0.0636\n",
      "Epoch 45/50\n",
      "28/28 [==============================] - 0s 5ms/step - loss: 5.4145 - accuracy: 0.0642\n",
      "Epoch 46/50\n",
      "28/28 [==============================] - 0s 5ms/step - loss: 5.3787 - accuracy: 0.0585\n",
      "Epoch 47/50\n",
      "28/28 [==============================] - 0s 5ms/step - loss: 5.2100 - accuracy: 0.0716\n",
      "Epoch 48/50\n",
      "28/28 [==============================] - 0s 5ms/step - loss: 5.3935 - accuracy: 0.0602\n",
      "Epoch 49/50\n",
      "28/28 [==============================] - 0s 5ms/step - loss: 5.3666 - accuracy: 0.0693\n",
      "Epoch 50/50\n",
      "28/28 [==============================] - 0s 5ms/step - loss: 5.0096 - accuracy: 0.0676\n",
      "14/14 [==============================] - 1s 3ms/step - loss: 3.5081 - accuracy: 0.0568\n",
      "Test loss: [3.508068323135376, 0.05681818351149559]\n"
     ]
    }
   ],
   "source": [
    "# Train the model with the new hyperparameters\n",
    "model = create_model(n_layers, n_units, dropout_rate, learning_rate, optimizer)\n",
    "history = model.fit(X_train, y_train, epochs=50, batch_size=64)\n",
    "\n",
    "# Evaluate the model on the test set\n",
    "test_loss = model.evaluate(X_test, y_test)\n",
    "\n",
    "# Print the test loss\n",
    "print('Test loss:', test_loss)\n",
    "\n",
    "# Update the hyperparameters for the final model\n",
    "n_layers = 2\n",
    "n_units = 128\n",
    "dropout_rate = 0.3\n",
    "learning_rate = 0.0005\n",
    "optimizer = 'Adamax'\n",
    "\n",
    "# Create the final model with the updated hyperparameters\n",
    "final_model = create_model(n_layers, n_units, dropout_rate, learning_rate, optimizer)\n"
   ]
  },
  {
   "cell_type": "code",
   "execution_count": 17,
   "id": "4ae9ddef",
   "metadata": {
    "execution": {
     "iopub.execute_input": "2023-03-27T04:43:58.178826Z",
     "iopub.status.busy": "2023-03-27T04:43:58.178525Z",
     "iopub.status.idle": "2023-03-27T04:43:59.038033Z",
     "shell.execute_reply": "2023-03-27T04:43:59.037066Z"
    },
    "papermill": {
     "duration": 0.894747,
     "end_time": "2023-03-27T04:43:59.040428",
     "exception": false,
     "start_time": "2023-03-27T04:43:58.145681",
     "status": "completed"
    },
    "tags": []
   },
   "outputs": [
    {
     "name": "stdout",
     "output_type": "stream",
     "text": [
      "14/14 [==============================] - 0s 3ms/step - loss: 3.5081 - accuracy: 0.0568\n",
      "Test loss: [3.508068323135376, 0.05681818351149559]\n"
     ]
    },
    {
     "data": {
      "image/png": "[encoded data removed]",
      "text/plain": [
       "<Figure size 432x288 with 1 Axes>"
      ]
     },
     "metadata": {
      "needs_background": "light"
     },
     "output_type": "display_data"
    }
   ],
   "source": [
    "# Evaluate the model on the test set\n",
    "test_loss = model.evaluate(X_test, y_test)\n",
    "\n",
    "# Print the test loss\n",
    "print('Test loss:', test_loss)\n",
    "\n",
    "# Make predictions on the test set\n",
    "y_pred = model.predict(X_test)\n",
    "\n",
    "# Plot the predicted values against the true values\n",
    "import matplotlib.pyplot as plt\n",
    "\n",
    "plt.plot(y_test, label='True')\n",
    "plt.plot(y_pred, label='Predicted')\n",
    "plt.legend()\n",
    "plt.show()"
   ]
  }
 ],
 "metadata": {
  "kernelspec": {
   "display_name": "Python 3",
   "language": "python",
   "name": "python3"
  },
  "language_info": {
   "codemirror_mode": {
    "name": "ipython",
    "version": 3
   },
   "file_extension": ".py",
   "mimetype": "text/x-python",
   "name": "python",
   "nbconvert_exporter": "python",
   "pygments_lexer": "ipython3",
   "version": "3.7.12"
  },
  "papermill": {
   "default_parameters": {},
   "duration": 57.306084,
   "end_time": "2023-03-27T04:44:02.313056",
   "environment_variables": {},
   "exception": null,
   "input_path": "__notebook__.ipynb",
   "output_path": "__notebook__.ipynb",
   "parameters": {},
   "start_time": "2023-03-27T04:43:05.006972",
   "version": "2.3.4"
  }
 },
 "nbformat": 4,
 "nbformat_minor": 5
}
